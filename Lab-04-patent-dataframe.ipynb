{
 "cells": [
  {
   "cell_type": "markdown",
   "metadata": {},
   "source": [
    "# CSCI 4253 / 5253 - Lab #4 - Patent Problem with Spark DataFrames\n",
    "<div>\n",
    " <h2> CSCI 4283 / 5253 \n",
    "  <IMG SRC=\"https://www.colorado.edu/cs/profiles/express/themes/cuspirit/logo.png\" WIDTH=50 ALIGN=\"right\"/> </h2>\n",
    "</div>"
   ]
  },
  {
   "cell_type": "markdown",
   "metadata": {},
   "source": [
    "This [Spark cheatsheet](https://s3.amazonaws.com/assets.datacamp.com/blog_assets/PySpark_SQL_Cheat_Sheet_Python.pdf) is useful as is [this reference on doing joins in Spark dataframe](http://www.learnbymarketing.com/1100/pyspark-joins-by-example/).\n",
    "\n",
    "The [DataBricks company has one of the better reference manuals for PySpark](https://docs.databricks.com/spark/latest/dataframes-datasets/index.html) -- they show you how to perform numerous common data operations such as joins, aggregation operations following `groupBy` and the like."
   ]
  },
  {
   "cell_type": "code",
   "execution_count": 1,
   "metadata": {},
   "outputs": [],
   "source": [
    "from pyspark import SparkContext, SparkConf\n",
    "from pyspark.sql import SparkSession"
   ]
  },
  {
   "cell_type": "markdown",
   "metadata": {},
   "source": [
    "The following aggregation functions may be useful -- [these can be used to aggregate results of `groupby` operations](https://docs.databricks.com/spark/latest/dataframes-datasets/introduction-to-dataframes-python.html#example-aggregations-using-agg-and-countdistinct). More documentation is at the [PySpark SQL Functions manual](https://spark.apache.org/docs/2.3.0/api/python/pyspark.sql.html#module-pyspark.sql.functions). Feel free to use other functions from that library."
   ]
  },
  {
   "cell_type": "code",
   "execution_count": 2,
   "metadata": {},
   "outputs": [],
   "source": [
    "from pyspark.sql.functions import col, count, countDistinct"
   ]
  },
  {
   "cell_type": "markdown",
   "metadata": {},
   "source": [
    "Create our session as described in the tutorials"
   ]
  },
  {
   "cell_type": "code",
   "execution_count": 3,
   "metadata": {},
   "outputs": [],
   "source": [
    "spark = SparkSession \\\n",
    "    .builder \\\n",
    "    .appName(\"Lab4-Dataframe\") \\\n",
    "    .master(\"local[*]\")\\\n",
    "    .getOrCreate()"
   ]
  },
  {
   "cell_type": "markdown",
   "metadata": {},
   "source": [
    "Read in the citations and patents data and check that the data makes sense. Note that unlike in the RDD solution, the data is automatically inferred to be Integer() types."
   ]
  },
  {
   "cell_type": "code",
   "execution_count": 4,
   "metadata": {},
   "outputs": [],
   "source": [
    "citations = spark.read.load('cite75_99.txt.gz',\n",
    "            format=\"csv\", sep=\",\", header=True,\n",
    "            compression=\"gzip\",\n",
    "            inferSchema=\"true\")"
   ]
  },
  {
   "cell_type": "code",
   "execution_count": 5,
   "metadata": {},
   "outputs": [
    {
     "name": "stdout",
     "output_type": "stream",
     "text": [
      "+-------+-------+\n",
      "| CITING|  CITED|\n",
      "+-------+-------+\n",
      "|3858241| 956203|\n",
      "|3858241|1324234|\n",
      "|3858241|3398406|\n",
      "|3858241|3557384|\n",
      "|3858241|3634889|\n",
      "+-------+-------+\n",
      "only showing top 5 rows\n",
      "\n"
     ]
    }
   ],
   "source": [
    "citations.show(5)"
   ]
  },
  {
   "cell_type": "code",
   "execution_count": 6,
   "metadata": {},
   "outputs": [],
   "source": [
    "patents = spark.read.load('apat63_99.txt.gz',\n",
    "            format=\"csv\", sep=\",\", header=True,\n",
    "            compression=\"gzip\",\n",
    "            inferSchema=\"true\")"
   ]
  },
  {
   "cell_type": "code",
   "execution_count": 7,
   "metadata": {},
   "outputs": [
    {
     "name": "stdout",
     "output_type": "stream",
     "text": [
      "+-------+-----+-----+-------+-------+-------+--------+-------+------+------+---+------+-----+--------+--------+-------+--------+--------+--------+--------+--------+--------+--------+\n",
      "| PATENT|GYEAR|GDATE|APPYEAR|COUNTRY|POSTATE|ASSIGNEE|ASSCODE|CLAIMS|NCLASS|CAT|SUBCAT|CMADE|CRECEIVE|RATIOCIT|GENERAL|ORIGINAL|FWDAPLAG|BCKGTLAG|SELFCTUB|SELFCTLB|SECDUPBD|SECDLWBD|\n",
      "+-------+-----+-----+-------+-------+-------+--------+-------+------+------+---+------+-----+--------+--------+-------+--------+--------+--------+--------+--------+--------+--------+\n",
      "|3070801| 1963| 1096|   NULL|     BE|   NULL|    NULL|      1|  NULL|   269|  6|    69| NULL|       1|    NULL|    0.0|    NULL|    NULL|    NULL|    NULL|    NULL|    NULL|    NULL|\n",
      "|3070802| 1963| 1096|   NULL|     US|     TX|    NULL|      1|  NULL|     2|  6|    63| NULL|       0|    NULL|   NULL|    NULL|    NULL|    NULL|    NULL|    NULL|    NULL|    NULL|\n",
      "|3070803| 1963| 1096|   NULL|     US|     IL|    NULL|      1|  NULL|     2|  6|    63| NULL|       9|    NULL| 0.3704|    NULL|    NULL|    NULL|    NULL|    NULL|    NULL|    NULL|\n",
      "|3070804| 1963| 1096|   NULL|     US|     OH|    NULL|      1|  NULL|     2|  6|    63| NULL|       3|    NULL| 0.6667|    NULL|    NULL|    NULL|    NULL|    NULL|    NULL|    NULL|\n",
      "|3070805| 1963| 1096|   NULL|     US|     CA|    NULL|      1|  NULL|     2|  6|    63| NULL|       1|    NULL|    0.0|    NULL|    NULL|    NULL|    NULL|    NULL|    NULL|    NULL|\n",
      "+-------+-----+-----+-------+-------+-------+--------+-------+------+------+---+------+-----+--------+--------+-------+--------+--------+--------+--------+--------+--------+--------+\n",
      "only showing top 5 rows\n",
      "\n"
     ]
    }
   ],
   "source": [
    "patents.show(5)"
   ]
  },
  {
   "cell_type": "markdown",
   "metadata": {},
   "source": [
    "In this below step, I created a smaller table from the patents data that only keeps the patent ID and the state it belongs to. I renamed the patent ID column to P_PATENT and made sure it is stored as an integer. I also renamed POSTATE to just STATE so it’s easier to read. Then I filtered the data so that it only includes U.S. patents (COUNTRY = 'US') where the state field is not empty or null.\n",
    "\n",
    "The result is a list of U.S. patent IDs with their state codes."
   ]
  },
  {
   "cell_type": "code",
   "execution_count": 8,
   "metadata": {},
   "outputs": [
    {
     "name": "stdout",
     "output_type": "stream",
     "text": [
      "+--------+-----+\n",
      "|P_PATENT|STATE|\n",
      "+--------+-----+\n",
      "| 3070802|   TX|\n",
      "| 3070803|   IL|\n",
      "| 3070804|   OH|\n",
      "| 3070805|   CA|\n",
      "| 3070806|   PA|\n",
      "+--------+-----+\n",
      "only showing top 5 rows\n",
      "\n"
     ]
    }
   ],
   "source": [
    "from pyspark.sql import functions as F\n",
    "\n",
    "patent_state = (\n",
    "    patents\n",
    "    .select(\n",
    "        F.col(\"PATENT\").cast(\"int\").alias(\"P_PATENT\"),\n",
    "        F.col(\"COUNTRY\"),\n",
    "        F.col(\"POSTATE\").alias(\"STATE\")\n",
    "    )\n",
    "    .filter((F.col(\"COUNTRY\") == \"US\") & F.col(\"STATE\").isNotNull() & (F.col(\"STATE\") != \"\"))\n",
    "    .select(\"P_PATENT\", \"STATE\")\n",
    ")\n",
    "patent_state.show(5)\n"
   ]
  },
  {
   "cell_type": "markdown",
   "metadata": {},
   "source": [
    "Next, the patent IDs in the citations data were stored as numbers so they could match properly with the patent information. Then I joined the data to find the state of the patent that was cited, which I labeled as CITED_STATE. Next, I did the same for the patent that was citing, calling it CITING_STATE. In the end, I got a table that shows each citation along with the state of the citing patent and the state of the cited patent. This lets me easily see whether citations are happening within the same state or across different states."
   ]
  },
  {
   "cell_type": "code",
   "execution_count": 9,
   "metadata": {},
   "outputs": [
    {
     "name": "stdout",
     "output_type": "stream",
     "text": [
      "+-------+-------+------------+-----------+\n",
      "| CITING|  CITED|CITING_STATE|CITED_STATE|\n",
      "+-------+-------+------------+-----------+\n",
      "|3858242|1515701|          MI|       NULL|\n",
      "|3858241|3634889|          MA|         OH|\n",
      "|3858241| 956203|          MA|       NULL|\n",
      "|3858241|1324234|          MA|       NULL|\n",
      "|3858241|3398406|          MA|         FL|\n",
      "+-------+-------+------------+-----------+\n",
      "only showing top 5 rows\n",
      "\n"
     ]
    }
   ],
   "source": [
    "# Here CITING/CITED should be ints for joining\n",
    "cit = citations.select(\n",
    "    F.col(\"CITING\").cast(\"int\").alias(\"CITING\"),\n",
    "    F.col(\"CITED\").cast(\"int\").alias(\"CITED\"),\n",
    ")\n",
    "\n",
    "# Join to get Cited state\n",
    "cited_side = (\n",
    "    cit.join(patent_state.withColumnRenamed(\"P_PATENT\", \"CITED\"), on=\"CITED\", how=\"left\")\n",
    "       .withColumnRenamed(\"STATE\", \"CITED_STATE\")\n",
    ")\n",
    "\n",
    "# Join to get Citing state\n",
    "both_states = (\n",
    "    cited_side.join(patent_state.withColumnRenamed(\"P_PATENT\", \"CITING\"), on=\"CITING\", how=\"left\")\n",
    "              .withColumnRenamed(\"STATE\", \"CITING_STATE\")\n",
    "              .select(\"CITING\", \"CITED\", \"CITING_STATE\", \"CITED_STATE\")\n",
    ")\n",
    "both_states.show(5)\n"
   ]
  },
  {
   "cell_type": "markdown",
   "metadata": {},
   "source": [
    "The first part filters the dataset to keep only the records where both the citing patent and the cited patent have valid state information, and both states are the same. This gives us only the “same-state” citation edges.\n",
    "After that, the data is grouped by the citing patent. For each citing patent, the code counts how many times it cited another patent from the same state. This count is stored in a new column called SAME_STATE.\n",
    "Finally, the results are sorted in descending order of SAME_STATE so that the patents with the highest number of same-state citations are shown at the top. The top 10 such patents are displayed."
   ]
  },
  {
   "cell_type": "code",
   "execution_count": 10,
   "metadata": {},
   "outputs": [
    {
     "name": "stdout",
     "output_type": "stream",
     "text": [
      "+-------+----------+\n",
      "|CITING |SAME_STATE|\n",
      "+-------+----------+\n",
      "|5959466|125       |\n",
      "|5983822|103       |\n",
      "|6008204|100       |\n",
      "|5952345|98        |\n",
      "|5998655|96        |\n",
      "|5958954|96        |\n",
      "|5936426|94        |\n",
      "|5739256|90        |\n",
      "|5978329|90        |\n",
      "|5951547|90        |\n",
      "+-------+----------+\n",
      "only showing top 10 rows\n",
      "\n"
     ]
    }
   ],
   "source": [
    "same_state_edges = both_states.filter(\n",
    "    F.col(\"CITING_STATE\").isNotNull() &\n",
    "    F.col(\"CITED_STATE\").isNotNull() &\n",
    "    (F.col(\"CITING_STATE\") == F.col(\"CITED_STATE\"))\n",
    ")\n",
    "\n",
    "# If rubric wants unique cited patents per citer, we use countDistinct(\"CITED\") instead of count(\"*\")\n",
    "same_state_counts = (\n",
    "    same_state_edges.groupBy(\"CITING\")\n",
    "    .agg(F.count(\"*\").alias(\"SAME_STATE\"))\n",
    ")\n",
    "same_state_counts.orderBy(F.desc(\"SAME_STATE\")).show(10, truncate=False)\n"
   ]
  },
  {
   "cell_type": "markdown",
   "metadata": {},
   "source": [
    "First, the patent IDs are converted into integers to make sure they match properly during joins. Then, the dataset is joined with the earlier results (same_state_counts) so each patent gets an extra column showing how many same-state citations it has. For patents that don’t appear in the counts table, the value is filled in with 0 to avoid blanks.\n",
    "Next, the columns are arranged so that the new SAME_STATE column appears at the very end, keeping the structure neat. Finally, the code filters to only U.S. patents, sorts them by the number of same-state citations (highest first, and in case of ties by patent ID), and shows the top 10 results in full detail."
   ]
  },
  {
   "cell_type": "code",
   "execution_count": 11,
   "metadata": {},
   "outputs": [
    {
     "name": "stdout",
     "output_type": "stream",
     "text": [
      "+-------+-----+-----+-------+-------+-------+--------+-------+------+------+---+------+-----+--------+--------+-------+--------+--------+--------+--------+--------+--------+--------+----------+\n",
      "|PATENT |GYEAR|GDATE|APPYEAR|COUNTRY|POSTATE|ASSIGNEE|ASSCODE|CLAIMS|NCLASS|CAT|SUBCAT|CMADE|CRECEIVE|RATIOCIT|GENERAL|ORIGINAL|FWDAPLAG|BCKGTLAG|SELFCTUB|SELFCTLB|SECDUPBD|SECDLWBD|SAME_STATE|\n",
      "+-------+-----+-----+-------+-------+-------+--------+-------+------+------+---+------+-----+--------+--------+-------+--------+--------+--------+--------+--------+--------+--------+----------+\n",
      "|5959466|1999 |14515|1997   |US     |CA     |5310    |2      |NULL  |326   |4  |46    |159  |0       |1.0     |NULL   |0.6186  |NULL    |4.8868  |0.0455  |0.044   |NULL    |NULL    |125       |\n",
      "|5983822|1999 |14564|1998   |US     |TX     |569900  |2      |NULL  |114   |5  |55    |200  |0       |0.995   |NULL   |0.7201  |NULL    |12.45   |0.0     |0.0     |NULL    |NULL    |103       |\n",
      "|6008204|1999 |14606|1998   |US     |CA     |749584  |2      |NULL  |514   |3  |31    |121  |0       |1.0     |NULL   |0.7415  |NULL    |5.0     |0.0085  |0.0083  |NULL    |NULL    |100       |\n",
      "|5952345|1999 |14501|1997   |US     |CA     |749584  |2      |NULL  |514   |3  |31    |118  |0       |1.0     |NULL   |0.7442  |NULL    |5.1102  |0.0     |0.0     |NULL    |NULL    |98        |\n",
      "|5958954|1999 |14515|1997   |US     |CA     |749584  |2      |NULL  |514   |3  |31    |116  |0       |1.0     |NULL   |0.7397  |NULL    |5.181   |0.0     |0.0     |NULL    |NULL    |96        |\n",
      "|5998655|1999 |14585|1998   |US     |CA     |NULL    |1      |NULL  |560   |1  |14    |114  |0       |1.0     |NULL   |0.7387  |NULL    |5.1667  |NULL    |NULL    |NULL    |NULL    |96        |\n",
      "|5936426|1999 |14466|1997   |US     |CA     |5310    |2      |NULL  |326   |4  |46    |178  |0       |1.0     |NULL   |0.58    |NULL    |11.2303 |0.0765  |0.073   |NULL    |NULL    |94        |\n",
      "|5739256|1998 |13983|1995   |US     |CA     |70060   |2      |15    |528   |1  |15    |453  |0       |1.0     |NULL   |0.8232  |NULL    |15.1104 |0.1124  |0.1082  |NULL    |NULL    |90        |\n",
      "|5913855|1999 |14417|1997   |US     |CA     |733846  |2      |NULL  |606   |3  |32    |242  |0       |1.0     |NULL   |0.7403  |NULL    |8.3595  |0.0     |0.0     |NULL    |NULL    |90        |\n",
      "|5925042|1999 |14445|1997   |US     |CA     |733846  |2      |NULL  |606   |3  |32    |242  |0       |1.0     |NULL   |0.7382  |NULL    |8.3471  |0.0     |0.0     |NULL    |NULL    |90        |\n",
      "+-------+-----+-----+-------+-------+-------+--------+-------+------+------+---+------+-----+--------+--------+-------+--------+--------+--------+--------+--------+--------+--------+----------+\n",
      "\n"
     ]
    }
   ],
   "source": [
    "\n",
    "pat_full = patents.withColumn(\"PATENT\", F.col(\"PATENT\").cast(\"int\"))\n",
    "\n",
    "# Join counts and append SAME_STATE as the final column\n",
    "pat_with_counts = (\n",
    "    pat_full.join(same_state_counts.withColumnRenamed(\"CITING\", \"PATENT\"), on=\"PATENT\", how=\"left\")\n",
    "            .withColumn(\"SAME_STATE\", F.coalesce(F.col(\"SAME_STATE\"), F.lit(0)))\n",
    ")\n",
    "\n",
    "# Reorder columns so SAME_STATE is last\n",
    "cols_in_order = [c for c in pat_full.columns] + [\"SAME_STATE\"]\n",
    "\n",
    "top10 = (\n",
    "    pat_with_counts\n",
    "    .filter(F.col(\"COUNTRY\") == \"US\")\n",
    "    .select(*cols_in_order)\n",
    "    .orderBy(F.desc(\"SAME_STATE\"), F.asc(\"PATENT\"))\n",
    "    .limit(10)\n",
    ")\n",
    "\n",
    "top10.show(10, truncate=False)\n"
   ]
  },
  {
   "cell_type": "code",
   "execution_count": null,
   "metadata": {},
   "outputs": [],
   "source": []
  }
 ],
 "metadata": {
  "kernelspec": {
   "display_name": "Python 3 (ipykernel)",
   "language": "python",
   "name": "python3"
  },
  "language_info": {
   "codemirror_mode": {
    "name": "ipython",
    "version": 3
   },
   "file_extension": ".py",
   "mimetype": "text/x-python",
   "name": "python",
   "nbconvert_exporter": "python",
   "pygments_lexer": "ipython3",
   "version": "3.11.9"
  }
 },
 "nbformat": 4,
 "nbformat_minor": 4
}
